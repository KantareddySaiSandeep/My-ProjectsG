{
 "cells": [
  {
   "cell_type": "code",
   "execution_count": 4,
   "metadata": {},
   "outputs": [],
   "source": [
    "import pandas as pd\n",
    "from sklearn.feature_extraction.text import CountVectorizer, TfidfVectorizer\n",
    "from sklearn.model_selection import train_test_split\n",
    "from sklearn.ensemble import RandomForestClassifier\n",
    "from sklearn.metrics import confusion_matrix, classification_report\n",
    "import numpy as np\n",
    "from datetime import datetime as dt\n",
    "import seaborn as sns\n",
    "import matplotlib.pyplot as plt\n",
    "import os\n",
    "from sklearn.cluster import KMeans\n",
    "from sklearn.decomposition import PCA\n",
    "from sklearn.ensemble import ExtraTreesClassifier\n",
    "from sklearn.manifold import TSNE\n",
    "import re"
   ]
  },
  {
   "cell_type": "code",
   "execution_count": 3,
   "metadata": {},
   "outputs": [],
   "source": [
    "train= pd.read_excel('Tweetsdata_Beer.xlsx')"
   ]
  },
  {
   "cell_type": "code",
   "execution_count": 6,
   "metadata": {},
   "outputs": [],
   "source": [
    "df=train[train['TweetFulltext'].str.contains(\"ABV|abv\")==True]"
   ]
  },
  {
   "cell_type": "code",
   "execution_count": 8,
   "metadata": {},
   "outputs": [],
   "source": [
    "x=[]"
   ]
  },
  {
   "cell_type": "code",
   "execution_count": 9,
   "metadata": {},
   "outputs": [],
   "source": [
    "for i in df['TweetFulltext']:\n",
    "    x.append([i for i in i.split() if '%' in i])"
   ]
  },
  {
   "cell_type": "code",
   "execution_count": 10,
   "metadata": {},
   "outputs": [
    {
     "name": "stderr",
     "output_type": "stream",
     "text": [
      "C:\\Users\\kasandeep\\AppData\\Local\\Continuum\\anaconda3\\lib\\site-packages\\ipykernel_launcher.py:3: SettingWithCopyWarning: \n",
      "A value is trying to be set on a copy of a slice from a DataFrame.\n",
      "Try using .loc[row_indexer,col_indexer] = value instead\n",
      "\n",
      "See the caveats in the documentation: http://pandas.pydata.org/pandas-docs/stable/indexing.html#indexing-view-versus-copy\n",
      "  This is separate from the ipykernel package so we can avoid doing imports until\n"
     ]
    }
   ],
   "source": [
    "x=np.array(x)\n",
    "x=pd.DataFrame(x)\n",
    "df['percentages']=x.values"
   ]
  },
  {
   "cell_type": "code",
   "execution_count": 5,
   "metadata": {},
   "outputs": [],
   "source": [
    "def s(x):\n",
    "    f=[]\n",
    "    for i in x:\n",
    "        print(i)\n",
    "        f.append([i for i in re.findall(r'\\d+(?:\\.\\d+)?', i)])\n",
    "    return f"
   ]
  },
  {
   "cell_type": "code",
   "execution_count": 11,
   "metadata": {},
   "outputs": [
    {
     "name": "stdout",
     "output_type": "stream",
     "text": [
      "2.5%abv\n",
      "2.5%\n",
      "2.5%\n",
      "&lt;0.5%abv\n",
      "7%?\n",
      "5.7%\n",
      "6.1%\n",
      "0%\n",
      "10%,\n",
      "10.5%\n",
      "8.3%\n",
      "40%\n",
      "4%\n",
      "8%,\n",
      "(3.4%).\n",
      "(5%\n",
      "10%\n",
      "10%\n",
      "5%\n",
      "10%\n",
      "10%\n",
      "7%\n",
      "4.5%\n",
      "7%\n",
      "4%\n",
      "17%\n",
      "17%\n",
      "8%,\n",
      "(32%ABV).\n",
      "7%\n",
      "4%\n",
      "0.5%\n",
      "(3.4%).\n",
      "8.0%\n",
      "5%,\n",
      "8%,\n",
      "6%\n",
      "1.5%\n",
      "2.5%?\n",
      "1.2%\n",
      "2.8%\n",
      "4.4%\n",
      "6%\n",
      "4%\n",
      "8%,\n",
      "5%\n",
      "3.4%?\n",
      "3.5%\n",
      "0.3%\n",
      "6%\n",
      "1.5%\n",
      "2.5%?\n",
      "9%\n",
      "13%abv.\n",
      "4.5%\n",
      "(32%ABV),\n",
      "12.5%abv\n",
      "0.5%\n",
      "5%.\n",
      "abv%\n",
      "6.5%abv\n",
      "6.8%\n",
      "3.3%\n",
      "3.4%.\n",
      "13%\n",
      "3.5%\n",
      "3.4%\n",
      "3.5%\n",
      "5%\n",
      "6.5%abv\n",
      "14%\n",
      "0.5%\n",
      "6.8%,\n",
      "5%.\n"
     ]
    },
    {
     "name": "stderr",
     "output_type": "stream",
     "text": [
      "C:\\Users\\kasandeep\\AppData\\Local\\Continuum\\anaconda3\\lib\\site-packages\\ipykernel_launcher.py:1: SettingWithCopyWarning: \n",
      "A value is trying to be set on a copy of a slice from a DataFrame.\n",
      "Try using .loc[row_indexer,col_indexer] = value instead\n",
      "\n",
      "See the caveats in the documentation: http://pandas.pydata.org/pandas-docs/stable/indexing.html#indexing-view-versus-copy\n",
      "  \"\"\"Entry point for launching an IPython kernel.\n"
     ]
    }
   ],
   "source": [
    "df['percentages']=df['percentages'].apply(s)"
   ]
  },
  {
   "cell_type": "code",
   "execution_count": 12,
   "metadata": {},
   "outputs": [
    {
     "name": "stderr",
     "output_type": "stream",
     "text": [
      "C:\\Users\\kasandeep\\AppData\\Local\\Continuum\\anaconda3\\lib\\site-packages\\ipykernel_launcher.py:1: FutureWarning: Sorting because non-concatenation axis is not aligned. A future version\n",
      "of pandas will change to not sort by default.\n",
      "\n",
      "To accept the future behavior, pass 'sort=False'.\n",
      "\n",
      "To retain the current behavior and silence the warning, pass 'sort=True'.\n",
      "\n",
      "  \"\"\"Entry point for launching an IPython kernel.\n"
     ]
    }
   ],
   "source": [
    "df2=pd.concat([train,df])\n",
    "df2.to_csv('Updated_Beer_Data_ABV.csv')"
   ]
  },
  {
   "cell_type": "code",
   "execution_count": null,
   "metadata": {},
   "outputs": [],
   "source": []
  }
 ],
 "metadata": {
  "kernelspec": {
   "display_name": "Python 3",
   "language": "python",
   "name": "python3"
  },
  "language_info": {
   "codemirror_mode": {
    "name": "ipython",
    "version": 3
   },
   "file_extension": ".py",
   "mimetype": "text/x-python",
   "name": "python",
   "nbconvert_exporter": "python",
   "pygments_lexer": "ipython3",
   "version": "3.7.3"
  }
 },
 "nbformat": 4,
 "nbformat_minor": 2
}
